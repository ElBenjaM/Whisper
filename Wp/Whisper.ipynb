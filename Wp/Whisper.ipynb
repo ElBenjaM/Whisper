{
  "cells": [
    {
      "cell_type": "markdown",
      "metadata": {
        "id": "view-in-github",
        "colab_type": "text"
      },
      "source": [
        "<a href=\"https://colab.research.google.com/github/ElBenjaM/Whisper/blob/main/Wp/Whisper.ipynb\" target=\"_parent\"><img src=\"https://colab.research.google.com/assets/colab-badge.svg\" alt=\"Open In Colab\"/></a>"
      ]
    },
    {
      "cell_type": "markdown",
      "metadata": {
        "id": "Zj6sKxnyo0G_"
      },
      "source": [
        "#Codigo para transcribir tus audios"
      ]
    },
    {
      "cell_type": "markdown",
      "source": [
        "Ten activada la **Aceleración por hardware** con GPU en `\"Entorno de ejecución\" > \"Cambiar tipo de entorno de ejecución\"`"
      ],
      "metadata": {
        "id": "MJwupoMetAOb"
      }
    },
    {
      "cell_type": "code",
      "source": [
        "#@title Dale al play para comenzar y subir tu audio\n",
        "from google.colab import files\n",
        "import os \n",
        "\n",
        "# Carga el archivo de audio\n",
        "audioo = files.upload()\n",
        "\n",
        "# Accede al primer elemento del diccionario (el nombre del archivo)\n",
        "Nombre_audio = list(audioo.keys())[0]"
      ],
      "metadata": {
        "cellView": "form",
        "id": "ycMHlcdkr2JY"
      },
      "execution_count": null,
      "outputs": []
    },
    {
      "cell_type": "markdown",
      "metadata": {
        "id": "4BJrjU4DpCtG"
      },
      "source": [
        "# Tabla informativa\n",
        "\n",
        "\n",
        "| Nombre         |  VRAM requerida         | Velocidad relativa        | |Idioma |\n",
        "|-----------------|-----------------|---------------------|-|-|\n",
        "| tiny         | ~1 GB         | ~32x                 | |Es=español |\n",
        "| base         | ~1 GB         | ~16x                 | |Ja=Japones |\n",
        "| small         | ~2 GB         | ~6x                 | |En=Ingles |\n",
        "| medium         | ~5 GB         | ~2x                 | | |\n",
        "| large         | ~10 GB         | 1x                 | | |\n",
        "\n",
        "\n"
      ]
    },
    {
      "cell_type": "markdown",
      "source": [
        "Entre más pesado el modelo, saldrá de mejor calidad la transcripción pero se demorará más tiempo, se recomienda usar el modelo \"medium\" para la mayoria de casos."
      ],
      "metadata": {
        "id": "NCbRCmBgr-5s"
      }
    },
    {
      "cell_type": "code",
      "source": [
        "#------------------------------------------------------------\n",
        "\n",
        "#@title Modelo e idioma\n",
        "# Install packages\n",
        "!pip install git+https://github.com/openai/whisper.git\n",
        "\n",
        "\n",
        "#------------------------------------------------------------\n",
        "\n",
        "\n",
        "import whisper\n",
        "modelo_trascripcion = \"medium\" #@param [\"tiny\", \"base\", \"small\", \"medium\", \"large\"]\n",
        "idioma_trascripcion = \"es\"#@param [\"es\", \"ja\",\"en\"]\n",
        "model = whisper.load_model(modelo_trascripcion)\n",
        "audio = whisper.load_audio(f\"{Nombre_audio}\")\n",
        "\n",
        "# Convertimos el audio a espectrograma mel-log\n",
        "mel = whisper.log_mel_spectrogram(audio).to(model.device)\n",
        "\n",
        "# Realizamos la transcripción\n",
        "result = model.transcribe(audio, without_timestamps=True)\n",
        "\n",
        "# Mostramos el texto transcrito por pantalla\n",
        "print(result[\"text\"])\n",
        "\n",
        "with open(f\"{Nombre_audio}.txt\", \"w\") as f:\n",
        "    f.write(f\"▼ Transcripción de {Nombre_audio}\\n\")\n",
        "    f.write(result[\"text\"])\n",
        "\n",
        "#------------------------------------------------------------"
      ],
      "metadata": {
        "cellView": "form",
        "id": "xVsz9MKXr8yV"
      },
      "execution_count": null,
      "outputs": []
    },
    {
      "cell_type": "code",
      "source": [
        "#@title Descargar trascripcion en un bloc de notas\n",
        "# Especifica la ruta del archivo que deseas descargar\n",
        "file_path = '/content/'+Nombre_audio+\".txt\"\n",
        "\n",
        "# Utiliza la función `download` de `files` para descargar el archivo\n",
        "files.download(file_path)"
      ],
      "metadata": {
        "cellView": "form",
        "id": "cbFI_HvksxIu"
      },
      "execution_count": null,
      "outputs": []
    }
  ],
  "metadata": {
    "accelerator": "GPU",
    "colab": {
      "provenance": [],
      "include_colab_link": true
    },
    "gpuClass": "standard",
    "kernelspec": {
      "display_name": "Python 3",
      "name": "python3"
    },
    "language_info": {
      "name": "python"
    }
  },
  "nbformat": 4,
  "nbformat_minor": 0
}